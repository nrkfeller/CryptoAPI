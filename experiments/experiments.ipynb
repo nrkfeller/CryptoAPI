{
 "cells": [
  {
   "cell_type": "code",
   "execution_count": 2,
   "metadata": {},
   "outputs": [
    {
     "ename": "ImportError",
     "evalue": "No module named 'keras'",
     "output_type": "error",
     "traceback": [
      "\u001b[0;31m----------------------------------------------------------\u001b[0m",
      "\u001b[0;31mImportError\u001b[0m              Traceback (most recent call last)",
      "\u001b[0;32m<ipython-input-2-07485c46adcc>\u001b[0m in \u001b[0;36m<module>\u001b[0;34m()\u001b[0m\n\u001b[1;32m     10\u001b[0m \u001b[0;32mfrom\u001b[0m \u001b[0mdatetime\u001b[0m \u001b[0;32mimport\u001b[0m \u001b[0mdatetime\u001b[0m\u001b[0;34m\u001b[0m\u001b[0m\n\u001b[1;32m     11\u001b[0m \u001b[0;34m\u001b[0m\u001b[0m\n\u001b[0;32m---> 12\u001b[0;31m \u001b[0;32mfrom\u001b[0m \u001b[0mkeras\u001b[0m\u001b[0;34m.\u001b[0m\u001b[0mmodels\u001b[0m \u001b[0;32mimport\u001b[0m \u001b[0mSequential\u001b[0m\u001b[0;34m\u001b[0m\u001b[0m\n\u001b[0m\u001b[1;32m     13\u001b[0m \u001b[0;32mfrom\u001b[0m \u001b[0mkeras\u001b[0m\u001b[0;34m.\u001b[0m\u001b[0mlayers\u001b[0m \u001b[0;32mimport\u001b[0m \u001b[0mDense\u001b[0m\u001b[0;34m,\u001b[0m \u001b[0mActivation\u001b[0m\u001b[0;34m,\u001b[0m \u001b[0mDropout\u001b[0m\u001b[0;34m\u001b[0m\u001b[0m\n\u001b[1;32m     14\u001b[0m \u001b[0;32mfrom\u001b[0m \u001b[0mkeras\u001b[0m\u001b[0;34m.\u001b[0m\u001b[0mlayers\u001b[0m \u001b[0;32mimport\u001b[0m \u001b[0mLSTM\u001b[0m\u001b[0;34m\u001b[0m\u001b[0m\n",
      "\u001b[0;31mImportError\u001b[0m: No module named 'keras'"
     ]
    }
   ],
   "source": [
    "import pandas as pd\n",
    "import matplotlib.pyplot as plt\n",
    "from mpld3 import display\n",
    "\n",
    "import numpy as np\n",
    "import math\n",
    "import os\n",
    "import numpy as np\n",
    "import pickle\n",
    "import quandl\n",
    "from datetime import datetime\n",
    "\n",
    "from keras.models import Sequential\n",
    "from keras.layers import Dense, Activation, Dropout\n",
    "from keras.layers import LSTM\n",
    "\n",
    "from sklearn.preprocessing import MinMaxScaler\n",
    "from sklearn.metrics import mean_squared_error\n",
    "\n",
    "import plotly.offline as py\n",
    "import plotly.graph_objs as go\n",
    "import plotly.figure_factory as ff\n",
    "py.init_notebook_mode(connected=True)\n",
    "\n",
    "plt.style.use('ggplot')\n",
    "%matplotlib inline"
   ]
  },
  {
   "cell_type": "code",
   "execution_count": 3,
   "metadata": {
    "collapsed": true
   },
   "outputs": [],
   "source": [
    "def get_quandl_data(quandl_id):\n",
    "    '''Download and cache Quandl dataseries'''\n",
    "    cache_path = '{}.pkl'.format(quandl_id).replace('/','-')\n",
    "    try:\n",
    "        f = open(cache_path, 'rb')\n",
    "        df = pickle.load(f)   \n",
    "        print('Loaded {} from cache'.format(quandl_id))\n",
    "    except (OSError, IOError) as e:\n",
    "        print('Downloading {} from Quandl'.format(quandl_id))\n",
    "        df = quandl.get(quandl_id, returns=\"pandas\")\n",
    "        df.to_pickle(cache_path)\n",
    "        print('Cached {} at {}'.format(quandl_id, cache_path))\n",
    "    return df"
   ]
  },
  {
   "cell_type": "code",
   "execution_count": 4,
   "metadata": {},
   "outputs": [
    {
     "name": "stdout",
     "output_type": "stream",
     "text": [
      "Loaded BCHARTS/KRAKENUSD from cache\n"
     ]
    },
    {
     "data": {
      "text/html": [
       "<div>\n",
       "<table border=\"1\" class=\"dataframe\">\n",
       "  <thead>\n",
       "    <tr style=\"text-align: right;\">\n",
       "      <th></th>\n",
       "      <th>Open</th>\n",
       "      <th>High</th>\n",
       "      <th>Low</th>\n",
       "      <th>Close</th>\n",
       "      <th>Volume (BTC)</th>\n",
       "      <th>Volume (Currency)</th>\n",
       "      <th>Weighted Price</th>\n",
       "    </tr>\n",
       "    <tr>\n",
       "      <th>Date</th>\n",
       "      <th></th>\n",
       "      <th></th>\n",
       "      <th></th>\n",
       "      <th></th>\n",
       "      <th></th>\n",
       "      <th></th>\n",
       "      <th></th>\n",
       "    </tr>\n",
       "  </thead>\n",
       "  <tbody>\n",
       "    <tr>\n",
       "      <th>2014-01-07</th>\n",
       "      <td>874.67040</td>\n",
       "      <td>892.06753</td>\n",
       "      <td>810.00000</td>\n",
       "      <td>810.00000</td>\n",
       "      <td>15.622378</td>\n",
       "      <td>13151.472844</td>\n",
       "      <td>841.835522</td>\n",
       "    </tr>\n",
       "    <tr>\n",
       "      <th>2014-01-08</th>\n",
       "      <td>810.00000</td>\n",
       "      <td>899.84281</td>\n",
       "      <td>788.00000</td>\n",
       "      <td>824.98287</td>\n",
       "      <td>19.182756</td>\n",
       "      <td>16097.329584</td>\n",
       "      <td>839.156269</td>\n",
       "    </tr>\n",
       "    <tr>\n",
       "      <th>2014-01-09</th>\n",
       "      <td>825.56345</td>\n",
       "      <td>870.00000</td>\n",
       "      <td>807.42084</td>\n",
       "      <td>841.86934</td>\n",
       "      <td>8.158335</td>\n",
       "      <td>6784.249982</td>\n",
       "      <td>831.572913</td>\n",
       "    </tr>\n",
       "    <tr>\n",
       "      <th>2014-01-10</th>\n",
       "      <td>839.99000</td>\n",
       "      <td>857.34056</td>\n",
       "      <td>817.00000</td>\n",
       "      <td>857.33056</td>\n",
       "      <td>8.024510</td>\n",
       "      <td>6780.220188</td>\n",
       "      <td>844.938794</td>\n",
       "    </tr>\n",
       "    <tr>\n",
       "      <th>2014-01-11</th>\n",
       "      <td>858.20000</td>\n",
       "      <td>918.05471</td>\n",
       "      <td>857.16554</td>\n",
       "      <td>899.84105</td>\n",
       "      <td>18.748285</td>\n",
       "      <td>16698.566929</td>\n",
       "      <td>890.671709</td>\n",
       "    </tr>\n",
       "  </tbody>\n",
       "</table>\n",
       "</div>"
      ],
      "text/plain": [
       "                 Open       High        Low      Close  Volume (BTC)  \\\n",
       "Date                                                                   \n",
       "2014-01-07  874.67040  892.06753  810.00000  810.00000     15.622378   \n",
       "2014-01-08  810.00000  899.84281  788.00000  824.98287     19.182756   \n",
       "2014-01-09  825.56345  870.00000  807.42084  841.86934      8.158335   \n",
       "2014-01-10  839.99000  857.34056  817.00000  857.33056      8.024510   \n",
       "2014-01-11  858.20000  918.05471  857.16554  899.84105     18.748285   \n",
       "\n",
       "            Volume (Currency)  Weighted Price  \n",
       "Date                                           \n",
       "2014-01-07       13151.472844      841.835522  \n",
       "2014-01-08       16097.329584      839.156269  \n",
       "2014-01-09        6784.249982      831.572913  \n",
       "2014-01-10        6780.220188      844.938794  \n",
       "2014-01-11       16698.566929      890.671709  "
      ]
     },
     "execution_count": 4,
     "metadata": {},
     "output_type": "execute_result"
    }
   ],
   "source": [
    "df = get_quandl_data('BCHARTS/KRAKENUSD')\n",
    "df.head()"
   ]
  },
  {
   "cell_type": "code",
   "execution_count": null,
   "metadata": {
    "collapsed": true
   },
   "outputs": [],
   "source": []
  },
  {
   "cell_type": "code",
   "execution_count": 5,
   "metadata": {},
   "outputs": [
    {
     "ename": "NameError",
     "evalue": "name 'go' is not defined",
     "output_type": "error",
     "traceback": [
      "\u001b[0;31m----------------------------------------------------------\u001b[0m",
      "\u001b[0;31mNameError\u001b[0m                Traceback (most recent call last)",
      "\u001b[0;32m<ipython-input-5-ec6175cc173d>\u001b[0m in \u001b[0;36m<module>\u001b[0;34m()\u001b[0m\n\u001b[0;32m----> 1\u001b[0;31m \u001b[0mbtc_trace\u001b[0m \u001b[0;34m=\u001b[0m \u001b[0mgo\u001b[0m\u001b[0;34m.\u001b[0m\u001b[0mScatter\u001b[0m\u001b[0;34m(\u001b[0m\u001b[0mx\u001b[0m\u001b[0;34m=\u001b[0m\u001b[0mdf\u001b[0m\u001b[0;34m.\u001b[0m\u001b[0mindex\u001b[0m\u001b[0;34m,\u001b[0m \u001b[0my\u001b[0m\u001b[0;34m=\u001b[0m\u001b[0mdf\u001b[0m\u001b[0;34m[\u001b[0m\u001b[0;34m'Weighted Price'\u001b[0m\u001b[0;34m]\u001b[0m\u001b[0;34m)\u001b[0m\u001b[0;34m\u001b[0m\u001b[0m\n\u001b[0m\u001b[1;32m      2\u001b[0m \u001b[0mpy\u001b[0m\u001b[0;34m.\u001b[0m\u001b[0miplot\u001b[0m\u001b[0;34m(\u001b[0m\u001b[0;34m[\u001b[0m\u001b[0mbtc_trace\u001b[0m\u001b[0;34m]\u001b[0m\u001b[0;34m)\u001b[0m\u001b[0;34m\u001b[0m\u001b[0m\n",
      "\u001b[0;31mNameError\u001b[0m: name 'go' is not defined"
     ]
    }
   ],
   "source": [
    "btc_trace = go.Scatter(x=df.index, y=df['Weighted Price'])\n",
    "py.iplot([btc_trace])"
   ]
  },
  {
   "cell_type": "code",
   "execution_count": 6,
   "metadata": {},
   "outputs": [
    {
     "name": "stdout",
     "output_type": "stream",
     "text": [
      "Loaded BCHARTS/COINBASEUSD from cache\n",
      "Loaded BCHARTS/BITSTAMPUSD from cache\n",
      "Loaded BCHARTS/ITBITUSD from cache\n"
     ]
    }
   ],
   "source": [
    "# Pull pricing data for 3 more BTC exchanges\n",
    "exchanges = ['COINBASE','BITSTAMP','ITBIT']\n",
    "\n",
    "exchange_data = {}\n",
    "\n",
    "exchange_data['KRAKEN'] = df\n",
    "\n",
    "for exchange in exchanges:\n",
    "    exchange_code = 'BCHARTS/{}USD'.format(exchange)\n",
    "    btc_exchange_df = get_quandl_data(exchange_code)\n",
    "    exchange_data[exchange] = btc_exchange_df\n"
   ]
  },
  {
   "cell_type": "code",
   "execution_count": 7,
   "metadata": {
    "collapsed": true
   },
   "outputs": [],
   "source": [
    "def merge_dfs_on_column(dataframes, labels, col):\n",
    "    '''Merge a single column of each dataframe into a new combined dataframe'''\n",
    "    series_dict = {}\n",
    "    for index in range(len(dataframes)):\n",
    "        series_dict[labels[index]] = dataframes[index][col]\n",
    "        \n",
    "    return pd.DataFrame(series_dict)"
   ]
  },
  {
   "cell_type": "code",
   "execution_count": 8,
   "metadata": {
    "collapsed": true
   },
   "outputs": [],
   "source": [
    "btc_usd_datasets = merge_dfs_on_column(list(exchange_data.values()), list(exchange_data.keys()), 'Weighted Price')"
   ]
  },
  {
   "cell_type": "code",
   "execution_count": 9,
   "metadata": {},
   "outputs": [
    {
     "data": {
      "text/html": [
       "<div>\n",
       "<table border=\"1\" class=\"dataframe\">\n",
       "  <thead>\n",
       "    <tr style=\"text-align: right;\">\n",
       "      <th></th>\n",
       "      <th>BITSTAMP</th>\n",
       "      <th>COINBASE</th>\n",
       "      <th>ITBIT</th>\n",
       "      <th>KRAKEN</th>\n",
       "    </tr>\n",
       "    <tr>\n",
       "      <th>Date</th>\n",
       "      <th></th>\n",
       "      <th></th>\n",
       "      <th></th>\n",
       "      <th></th>\n",
       "    </tr>\n",
       "  </thead>\n",
       "  <tbody>\n",
       "    <tr>\n",
       "      <th>2017-10-28</th>\n",
       "      <td>5736.038974</td>\n",
       "      <td>5774.246928</td>\n",
       "      <td>5727.183448</td>\n",
       "      <td>5751.871922</td>\n",
       "    </tr>\n",
       "    <tr>\n",
       "      <th>2017-10-29</th>\n",
       "      <td>5990.189374</td>\n",
       "      <td>6033.384476</td>\n",
       "      <td>6050.093020</td>\n",
       "      <td>5982.502457</td>\n",
       "    </tr>\n",
       "    <tr>\n",
       "      <th>2017-10-30</th>\n",
       "      <td>6124.204959</td>\n",
       "      <td>6112.901139</td>\n",
       "      <td>6126.593569</td>\n",
       "      <td>6117.285003</td>\n",
       "    </tr>\n",
       "    <tr>\n",
       "      <th>2017-10-31</th>\n",
       "      <td>6284.179318</td>\n",
       "      <td>6319.249739</td>\n",
       "      <td>6284.178017</td>\n",
       "      <td>6299.346958</td>\n",
       "    </tr>\n",
       "    <tr>\n",
       "      <th>2017-11-01</th>\n",
       "      <td>6527.618676</td>\n",
       "      <td>6543.506240</td>\n",
       "      <td>6537.107050</td>\n",
       "      <td>6537.068590</td>\n",
       "    </tr>\n",
       "  </tbody>\n",
       "</table>\n",
       "</div>"
      ],
      "text/plain": [
       "               BITSTAMP     COINBASE        ITBIT       KRAKEN\n",
       "Date                                                          \n",
       "2017-10-28  5736.038974  5774.246928  5727.183448  5751.871922\n",
       "2017-10-29  5990.189374  6033.384476  6050.093020  5982.502457\n",
       "2017-10-30  6124.204959  6112.901139  6126.593569  6117.285003\n",
       "2017-10-31  6284.179318  6319.249739  6284.178017  6299.346958\n",
       "2017-11-01  6527.618676  6543.506240  6537.107050  6537.068590"
      ]
     },
     "execution_count": 9,
     "metadata": {},
     "output_type": "execute_result"
    }
   ],
   "source": [
    "btc_usd_datasets.tail()\n"
   ]
  },
  {
   "cell_type": "code",
   "execution_count": 10,
   "metadata": {
    "collapsed": true
   },
   "outputs": [],
   "source": [
    "def df_scatter(df, title, seperate_y_axis=False, y_axis_label='', scale='linear', initial_hide=False):\n",
    "    '''Generate a scatter plot of the entire dataframe'''\n",
    "    label_arr = list(df)\n",
    "    series_arr = list(map(lambda col: df[col], label_arr))\n",
    "    \n",
    "    layout = go.Layout(\n",
    "        title=title,\n",
    "        legend=dict(orientation=\"h\"),\n",
    "        xaxis=dict(type='date'),\n",
    "        yaxis=dict(\n",
    "            title=y_axis_label,\n",
    "            showticklabels= not seperate_y_axis,\n",
    "            type=scale\n",
    "        )\n",
    "    )\n",
    "    \n",
    "    y_axis_config = dict(\n",
    "        overlaying='y',\n",
    "        showticklabels=False,\n",
    "        type=scale )\n",
    "    \n",
    "    visibility = 'visible'\n",
    "    if initial_hide:\n",
    "        visibility = 'legendonly'\n",
    "        \n",
    "    # Form Trace For Each Series\n",
    "    trace_arr = []\n",
    "    for index, series in enumerate(series_arr):\n",
    "        trace = go.Scatter(\n",
    "            x=series.index, \n",
    "            y=series, \n",
    "            name=label_arr[index],\n",
    "            visible=visibility\n",
    "        )\n",
    "        \n",
    "        # Add seperate axis for the series\n",
    "        if seperate_y_axis:\n",
    "            trace['yaxis'] = 'y{}'.format(index + 1)\n",
    "            layout['yaxis{}'.format(index + 1)] = y_axis_config    \n",
    "        trace_arr.append(trace)\n",
    "\n",
    "    fig = go.Figure(data=trace_arr, layout=layout)\n",
    "    py.iplot(fig)"
   ]
  },
  {
   "cell_type": "code",
   "execution_count": 11,
   "metadata": {},
   "outputs": [
    {
     "data": {
      "text/plain": [
       "[Date\n",
       " 2011-09-13       5.929231\n",
       " 2011-09-14       5.590798\n",
       " 2011-09-15       5.094272\n",
       " 2011-09-16       4.854515\n",
       " 2011-09-17       4.870000\n",
       " 2011-09-18       4.839576\n",
       " 2011-09-19       4.900000\n",
       " 2011-09-20       5.388054\n",
       " 2011-09-21       5.706075\n",
       " 2011-09-22       5.696960\n",
       " 2011-09-23       5.707099\n",
       " 2011-09-24       5.722494\n",
       " 2011-09-25       6.050000\n",
       " 2011-09-26       5.983073\n",
       " 2011-09-27       4.895402\n",
       " 2011-09-28       4.862498\n",
       " 2011-09-29       4.816345\n",
       " 2011-09-30       0.000000\n",
       " 2011-10-01       0.000000\n",
       " 2011-10-02       0.000000\n",
       " 2011-10-03       4.847772\n",
       " 2011-10-04       4.924737\n",
       " 2011-10-05       5.029419\n",
       " 2011-10-06       4.908846\n",
       " 2011-10-07       4.687629\n",
       " 2011-10-08       4.455536\n",
       " 2011-10-09       3.890000\n",
       " 2011-10-10       4.498302\n",
       " 2011-10-11       3.998965\n",
       " 2011-10-12       3.943964\n",
       "                  ...     \n",
       " 2017-10-03    4295.104231\n",
       " 2017-10-04    4233.863791\n",
       " 2017-10-05    4265.134362\n",
       " 2017-10-06    4363.297357\n",
       " 2017-10-07    4373.286986\n",
       " 2017-10-08    4511.210258\n",
       " 2017-10-09    4679.260854\n",
       " 2017-10-10    4807.874965\n",
       " 2017-10-11    4789.380290\n",
       " 2017-10-12    5149.565627\n",
       " 2017-10-13    5600.529057\n",
       " 2017-10-14    5680.622839\n",
       " 2017-10-15    5584.710294\n",
       " 2017-10-16    5681.028650\n",
       " 2017-10-17    5605.051468\n",
       " 2017-10-18    5361.195428\n",
       " 2017-10-19    5654.055574\n",
       " 2017-10-20    5891.450452\n",
       " 2017-10-21    6050.005941\n",
       " 2017-10-22    5877.675784\n",
       " 2017-10-23    5839.562642\n",
       " 2017-10-24    5643.650680\n",
       " 2017-10-25    5536.466141\n",
       " 2017-10-26    5859.999884\n",
       " 2017-10-27    5797.460412\n",
       " 2017-10-28    5736.038974\n",
       " 2017-10-29    5990.189374\n",
       " 2017-10-30    6124.204959\n",
       " 2017-10-31    6284.179318\n",
       " 2017-11-01    6527.618676\n",
       " Freq: D, Name: BITSTAMP, dtype: float64, Date\n",
       " 2011-09-13            NaN\n",
       " 2011-09-14            NaN\n",
       " 2011-09-15            NaN\n",
       " 2011-09-16            NaN\n",
       " 2011-09-17            NaN\n",
       " 2011-09-18            NaN\n",
       " 2011-09-19            NaN\n",
       " 2011-09-20            NaN\n",
       " 2011-09-21            NaN\n",
       " 2011-09-22            NaN\n",
       " 2011-09-23            NaN\n",
       " 2011-09-24            NaN\n",
       " 2011-09-25            NaN\n",
       " 2011-09-26            NaN\n",
       " 2011-09-27            NaN\n",
       " 2011-09-28            NaN\n",
       " 2011-09-29            NaN\n",
       " 2011-09-30            NaN\n",
       " 2011-10-01            NaN\n",
       " 2011-10-02            NaN\n",
       " 2011-10-03            NaN\n",
       " 2011-10-04            NaN\n",
       " 2011-10-05            NaN\n",
       " 2011-10-06            NaN\n",
       " 2011-10-07            NaN\n",
       " 2011-10-08            NaN\n",
       " 2011-10-09            NaN\n",
       " 2011-10-10            NaN\n",
       " 2011-10-11            NaN\n",
       " 2011-10-12            NaN\n",
       "                  ...     \n",
       " 2017-10-03    4312.974604\n",
       " 2017-10-04    4243.672167\n",
       " 2017-10-05    4273.702994\n",
       " 2017-10-06    4362.836656\n",
       " 2017-10-07    4367.504626\n",
       " 2017-10-08    4527.594663\n",
       " 2017-10-09    4714.906671\n",
       " 2017-10-10    4826.258931\n",
       " 2017-10-11    4798.147144\n",
       " 2017-10-12    5160.870725\n",
       " 2017-10-13    5620.117992\n",
       " 2017-10-14    5689.292476\n",
       " 2017-10-15    5621.997261\n",
       " 2017-10-16    5690.833277\n",
       " 2017-10-17    5621.375274\n",
       " 2017-10-18    5383.712685\n",
       " 2017-10-19    5658.715050\n",
       " 2017-10-20    5904.582557\n",
       " 2017-10-21    6070.312959\n",
       " 2017-10-22    5913.788668\n",
       " 2017-10-23    5847.983538\n",
       " 2017-10-24    5650.748930\n",
       " 2017-10-25    5544.433187\n",
       " 2017-10-26    5854.474286\n",
       " 2017-10-27    5814.604097\n",
       " 2017-10-28    5774.246928\n",
       " 2017-10-29    6033.384476\n",
       " 2017-10-30    6112.901139\n",
       " 2017-10-31    6319.249739\n",
       " 2017-11-01    6543.506240\n",
       " Freq: D, Name: COINBASE, dtype: float64, Date\n",
       " 2011-09-13            NaN\n",
       " 2011-09-14            NaN\n",
       " 2011-09-15            NaN\n",
       " 2011-09-16            NaN\n",
       " 2011-09-17            NaN\n",
       " 2011-09-18            NaN\n",
       " 2011-09-19            NaN\n",
       " 2011-09-20            NaN\n",
       " 2011-09-21            NaN\n",
       " 2011-09-22            NaN\n",
       " 2011-09-23            NaN\n",
       " 2011-09-24            NaN\n",
       " 2011-09-25            NaN\n",
       " 2011-09-26            NaN\n",
       " 2011-09-27            NaN\n",
       " 2011-09-28            NaN\n",
       " 2011-09-29            NaN\n",
       " 2011-09-30            NaN\n",
       " 2011-10-01            NaN\n",
       " 2011-10-02            NaN\n",
       " 2011-10-03            NaN\n",
       " 2011-10-04            NaN\n",
       " 2011-10-05            NaN\n",
       " 2011-10-06            NaN\n",
       " 2011-10-07            NaN\n",
       " 2011-10-08            NaN\n",
       " 2011-10-09            NaN\n",
       " 2011-10-10            NaN\n",
       " 2011-10-11            NaN\n",
       " 2011-10-12            NaN\n",
       "                  ...     \n",
       " 2017-10-03    4305.215903\n",
       " 2017-10-04    4256.070959\n",
       " 2017-10-05    4287.174560\n",
       " 2017-10-06    4370.974095\n",
       " 2017-10-07    4376.245707\n",
       " 2017-10-08    4474.650701\n",
       " 2017-10-09    4672.003307\n",
       " 2017-10-10    4809.882331\n",
       " 2017-10-11    4798.181174\n",
       " 2017-10-12    5096.501256\n",
       " 2017-10-13    5664.089858\n",
       " 2017-10-14    5721.609384\n",
       " 2017-10-15    5648.822159\n",
       " 2017-10-16    5700.118370\n",
       " 2017-10-17    5615.254835\n",
       " 2017-10-18    5360.547419\n",
       " 2017-10-19    5649.795267\n",
       " 2017-10-20    5883.680036\n",
       " 2017-10-21    6065.031584\n",
       " 2017-10-22    5884.806725\n",
       " 2017-10-23    5852.093165\n",
       " 2017-10-24    5630.009947\n",
       " 2017-10-25    5513.846530\n",
       " 2017-10-26    5864.693752\n",
       " 2017-10-27    5803.919594\n",
       " 2017-10-28    5727.183448\n",
       " 2017-10-29    6050.093020\n",
       " 2017-10-30    6126.593569\n",
       " 2017-10-31    6284.178017\n",
       " 2017-11-01    6537.107050\n",
       " Freq: D, Name: ITBIT, dtype: float64, Date\n",
       " 2011-09-13            NaN\n",
       " 2011-09-14            NaN\n",
       " 2011-09-15            NaN\n",
       " 2011-09-16            NaN\n",
       " 2011-09-17            NaN\n",
       " 2011-09-18            NaN\n",
       " 2011-09-19            NaN\n",
       " 2011-09-20            NaN\n",
       " 2011-09-21            NaN\n",
       " 2011-09-22            NaN\n",
       " 2011-09-23            NaN\n",
       " 2011-09-24            NaN\n",
       " 2011-09-25            NaN\n",
       " 2011-09-26            NaN\n",
       " 2011-09-27            NaN\n",
       " 2011-09-28            NaN\n",
       " 2011-09-29            NaN\n",
       " 2011-09-30            NaN\n",
       " 2011-10-01            NaN\n",
       " 2011-10-02            NaN\n",
       " 2011-10-03            NaN\n",
       " 2011-10-04            NaN\n",
       " 2011-10-05            NaN\n",
       " 2011-10-06            NaN\n",
       " 2011-10-07            NaN\n",
       " 2011-10-08            NaN\n",
       " 2011-10-09            NaN\n",
       " 2011-10-10            NaN\n",
       " 2011-10-11            NaN\n",
       " 2011-10-12            NaN\n",
       "                  ...     \n",
       " 2017-10-03    4311.757087\n",
       " 2017-10-04    4250.842982\n",
       " 2017-10-05    4272.969262\n",
       " 2017-10-06    4373.800974\n",
       " 2017-10-07    4363.229730\n",
       " 2017-10-08    4509.198256\n",
       " 2017-10-09    4699.681608\n",
       " 2017-10-10    4818.286994\n",
       " 2017-10-11    4802.244410\n",
       " 2017-10-12    5161.424147\n",
       " 2017-10-13    5615.511555\n",
       " 2017-10-14    5692.831135\n",
       " 2017-10-15    5610.777658\n",
       " 2017-10-16    5674.172630\n",
       " 2017-10-17    5624.919714\n",
       " 2017-10-18    5394.451775\n",
       " 2017-10-19    5646.489531\n",
       " 2017-10-20    5882.595020\n",
       " 2017-10-21    6071.996250\n",
       " 2017-10-22    5909.140548\n",
       " 2017-10-23    5856.935781\n",
       " 2017-10-24    5671.332686\n",
       " 2017-10-25    5569.820590\n",
       " 2017-10-26    5863.651519\n",
       " 2017-10-27    5824.911865\n",
       " 2017-10-28    5751.871922\n",
       " 2017-10-29    5982.502457\n",
       " 2017-10-30    6117.285003\n",
       " 2017-10-31    6299.346958\n",
       " 2017-11-01    6537.068590\n",
       " Freq: D, Name: KRAKEN, dtype: float64]"
      ]
     },
     "execution_count": 11,
     "metadata": {},
     "output_type": "execute_result"
    }
   ],
   "source": [
    "labels = list(btc_usd_datasets)\n",
    "series_arr = list(map(lambda col: btc_usd_datasets[col], labels))\n",
    "series_arr"
   ]
  },
  {
   "cell_type": "code",
   "execution_count": 12,
   "metadata": {},
   "outputs": [
    {
     "ename": "NameError",
     "evalue": "name 'go' is not defined",
     "output_type": "error",
     "traceback": [
      "\u001b[0;31m----------------------------------------------------------\u001b[0m",
      "\u001b[0;31mNameError\u001b[0m                Traceback (most recent call last)",
      "\u001b[0;32m<ipython-input-12-ef80d3115fd0>\u001b[0m in \u001b[0;36m<module>\u001b[0;34m()\u001b[0m\n\u001b[1;32m      1\u001b[0m \u001b[0mbtc_usd_datasets\u001b[0m\u001b[0;34m.\u001b[0m\u001b[0mreplace\u001b[0m\u001b[0;34m(\u001b[0m\u001b[0;36m0\u001b[0m\u001b[0;34m,\u001b[0m \u001b[0mnp\u001b[0m\u001b[0;34m.\u001b[0m\u001b[0mnan\u001b[0m\u001b[0;34m,\u001b[0m \u001b[0minplace\u001b[0m\u001b[0;34m=\u001b[0m\u001b[0;32mTrue\u001b[0m\u001b[0;34m)\u001b[0m\u001b[0;34m\u001b[0m\u001b[0m\n\u001b[0;32m----> 2\u001b[0;31m \u001b[0mdf_scatter\u001b[0m\u001b[0;34m(\u001b[0m\u001b[0mbtc_usd_datasets\u001b[0m\u001b[0;34m,\u001b[0m \u001b[0;34m'Bitcoin Price (USD) By Exchange'\u001b[0m\u001b[0;34m)\u001b[0m\u001b[0;34m\u001b[0m\u001b[0m\n\u001b[0m",
      "\u001b[0;32m<ipython-input-10-d14ff67852b5>\u001b[0m in \u001b[0;36mdf_scatter\u001b[0;34m(df, title, seperate_y_axis, y_axis_label, scale, initial_hide)\u001b[0m\n\u001b[1;32m      4\u001b[0m     \u001b[0mseries_arr\u001b[0m \u001b[0;34m=\u001b[0m \u001b[0mlist\u001b[0m\u001b[0;34m(\u001b[0m\u001b[0mmap\u001b[0m\u001b[0;34m(\u001b[0m\u001b[0;32mlambda\u001b[0m \u001b[0mcol\u001b[0m\u001b[0;34m:\u001b[0m \u001b[0mdf\u001b[0m\u001b[0;34m[\u001b[0m\u001b[0mcol\u001b[0m\u001b[0;34m]\u001b[0m\u001b[0;34m,\u001b[0m \u001b[0mlabel_arr\u001b[0m\u001b[0;34m)\u001b[0m\u001b[0;34m)\u001b[0m\u001b[0;34m\u001b[0m\u001b[0m\n\u001b[1;32m      5\u001b[0m \u001b[0;34m\u001b[0m\u001b[0m\n\u001b[0;32m----> 6\u001b[0;31m     layout = go.Layout(\n\u001b[0m\u001b[1;32m      7\u001b[0m         \u001b[0mtitle\u001b[0m\u001b[0;34m=\u001b[0m\u001b[0mtitle\u001b[0m\u001b[0;34m,\u001b[0m\u001b[0;34m\u001b[0m\u001b[0m\n\u001b[1;32m      8\u001b[0m         \u001b[0mlegend\u001b[0m\u001b[0;34m=\u001b[0m\u001b[0mdict\u001b[0m\u001b[0;34m(\u001b[0m\u001b[0morientation\u001b[0m\u001b[0;34m=\u001b[0m\u001b[0;34m\"h\"\u001b[0m\u001b[0;34m)\u001b[0m\u001b[0;34m,\u001b[0m\u001b[0;34m\u001b[0m\u001b[0m\n",
      "\u001b[0;31mNameError\u001b[0m: name 'go' is not defined"
     ]
    }
   ],
   "source": [
    "btc_usd_datasets.replace(0, np.nan, inplace=True)\n",
    "df_scatter(btc_usd_datasets, 'Bitcoin Price (USD) By Exchange')"
   ]
  },
  {
   "cell_type": "code",
   "execution_count": 13,
   "metadata": {},
   "outputs": [
    {
     "ename": "NameError",
     "evalue": "name 'go' is not defined",
     "output_type": "error",
     "traceback": [
      "\u001b[0;31m----------------------------------------------------------\u001b[0m",
      "\u001b[0;31mNameError\u001b[0m                Traceback (most recent call last)",
      "\u001b[0;32m<ipython-input-13-e135b5e83664>\u001b[0m in \u001b[0;36m<module>\u001b[0;34m()\u001b[0m\n\u001b[1;32m      1\u001b[0m \u001b[0mbtc_usd_datasets\u001b[0m\u001b[0;34m[\u001b[0m\u001b[0;34m'avg_btc_price_usd'\u001b[0m\u001b[0;34m]\u001b[0m \u001b[0;34m=\u001b[0m \u001b[0mbtc_usd_datasets\u001b[0m\u001b[0;34m.\u001b[0m\u001b[0mmean\u001b[0m\u001b[0;34m(\u001b[0m\u001b[0maxis\u001b[0m\u001b[0;34m=\u001b[0m\u001b[0;36m1\u001b[0m\u001b[0;34m)\u001b[0m\u001b[0;34m\u001b[0m\u001b[0m\n\u001b[0;32m----> 2\u001b[0;31m \u001b[0mbtc_trace\u001b[0m \u001b[0;34m=\u001b[0m \u001b[0mgo\u001b[0m\u001b[0;34m.\u001b[0m\u001b[0mScatter\u001b[0m\u001b[0;34m(\u001b[0m\u001b[0mx\u001b[0m\u001b[0;34m=\u001b[0m\u001b[0mbtc_usd_datasets\u001b[0m\u001b[0;34m.\u001b[0m\u001b[0mindex\u001b[0m\u001b[0;34m,\u001b[0m \u001b[0my\u001b[0m\u001b[0;34m=\u001b[0m\u001b[0mbtc_usd_datasets\u001b[0m\u001b[0;34m[\u001b[0m\u001b[0;34m'avg_btc_price_usd'\u001b[0m\u001b[0;34m]\u001b[0m\u001b[0;34m)\u001b[0m\u001b[0;34m\u001b[0m\u001b[0m\n\u001b[0m\u001b[1;32m      3\u001b[0m \u001b[0mpy\u001b[0m\u001b[0;34m.\u001b[0m\u001b[0miplot\u001b[0m\u001b[0;34m(\u001b[0m\u001b[0;34m[\u001b[0m\u001b[0mbtc_trace\u001b[0m\u001b[0;34m]\u001b[0m\u001b[0;34m)\u001b[0m\u001b[0;34m\u001b[0m\u001b[0m\n",
      "\u001b[0;31mNameError\u001b[0m: name 'go' is not defined"
     ]
    }
   ],
   "source": [
    "btc_usd_datasets['avg_btc_price_usd'] = btc_usd_datasets.mean(axis=1)\n",
    "btc_trace = go.Scatter(x=btc_usd_datasets.index, y=btc_usd_datasets['avg_btc_price_usd'])\n",
    "py.iplot([btc_trace])"
   ]
  },
  {
   "cell_type": "code",
   "execution_count": null,
   "metadata": {
    "collapsed": true
   },
   "outputs": [],
   "source": []
  },
  {
   "cell_type": "markdown",
   "metadata": {},
   "source": [
    "# Prediction"
   ]
  },
  {
   "cell_type": "code",
   "execution_count": 56,
   "metadata": {},
   "outputs": [
    {
     "data": {
      "text/plain": [
       "MinMaxScaler(copy=True, feature_range=(0, 1))"
      ]
     },
     "execution_count": 56,
     "metadata": {},
     "output_type": "execute_result"
    }
   ],
   "source": [
    "from sklearn.preprocessing import MinMaxScaler\n",
    "from keras.models import Sequential\n",
    "from keras.layers import LSTM, Dense\n",
    "\n",
    "scaler = MinMaxScaler(feature_range=(0,1))\n",
    "scaler"
   ]
  },
  {
   "cell_type": "code",
   "execution_count": 57,
   "metadata": {
    "collapsed": true
   },
   "outputs": [],
   "source": [
    "df = btc_usd_datasets['avg_btc_price_usd']\n",
    "df = df.dropna(how='all') "
   ]
  },
  {
   "cell_type": "code",
   "execution_count": 58,
   "metadata": {},
   "outputs": [
    {
     "name": "stderr",
     "output_type": "stream",
     "text": [
      "/Users/nicolasfeller/anaconda/envs/ztdl/lib/python3.5/site-packages/sklearn/preprocessing/data.py:321: DeprecationWarning: Passing 1d arrays as data is deprecated in 0.17 and will raise ValueError in 0.19. Reshape your data either using X.reshape(-1, 1) if your data has a single feature or X.reshape(1, -1) if it contains a single sample.\n",
      "  warnings.warn(DEPRECATION_MSG_1D, DeprecationWarning)\n",
      "/Users/nicolasfeller/anaconda/envs/ztdl/lib/python3.5/site-packages/sklearn/preprocessing/data.py:356: DeprecationWarning: Passing 1d arrays as data is deprecated in 0.17 and will raise ValueError in 0.19. Reshape your data either using X.reshape(-1, 1) if your data has a single feature or X.reshape(1, -1) if it contains a single sample.\n",
      "  warnings.warn(DEPRECATION_MSG_1D, DeprecationWarning)\n"
     ]
    },
    {
     "data": {
      "text/plain": [
       "(1000, 1)"
      ]
     },
     "execution_count": 58,
     "metadata": {},
     "output_type": "execute_result"
    }
   ],
   "source": [
    "ds = scaler.fit_transform(df)[-1000:]\n",
    "ds = ds.reshape(len(ds), 1)\n",
    "ds.shape"
   ]
  },
  {
   "cell_type": "code",
   "execution_count": null,
   "metadata": {
    "collapsed": true
   },
   "outputs": [],
   "source": []
  },
  {
   "cell_type": "code",
   "execution_count": 41,
   "metadata": {
    "collapsed": true
   },
   "outputs": [],
   "source": [
    "def train_test_split(data, test_size=0.2):\n",
    "    train_set_size = int(len(data) * (1-test_size))\n",
    "    train_set = data[:train_set_size]\n",
    "    test_set = data[-(len(data)-train_set_size):]\n",
    "    return train_set, test_set"
   ]
  },
  {
   "cell_type": "code",
   "execution_count": 66,
   "metadata": {},
   "outputs": [
    {
     "data": {
      "text/plain": [
       "(1000, 800, 200)"
      ]
     },
     "execution_count": 66,
     "metadata": {},
     "output_type": "execute_result"
    }
   ],
   "source": [
    "train, test = train_test_split(ds)\n",
    "len(ds), len(train), len(test)"
   ]
  },
  {
   "cell_type": "code",
   "execution_count": 43,
   "metadata": {
    "collapsed": true
   },
   "outputs": [],
   "source": [
    "def create_dataset(dataset, lookback=1):\n",
    "    dataX, dataY = [], []\n",
    "    for i in range(0, len(dataset) - lookback):\n",
    "        dataY.append(dataset[i+lookback, 0])\n",
    "        dataX.append(dataset[i])\n",
    "    return np.array(dataX), np.array(dataY)\n",
    "\n",
    "look_back = 1\n",
    "X_train, y_train = create_dataset(train, look_back)\n",
    "X_test, y_test = create_dataset(test, look_back)"
   ]
  },
  {
   "cell_type": "code",
   "execution_count": 44,
   "metadata": {},
   "outputs": [
    {
     "data": {
      "text/plain": [
       "((799, 1), (799,), (199, 1), (199,))"
      ]
     },
     "execution_count": 44,
     "metadata": {},
     "output_type": "execute_result"
    }
   ],
   "source": [
    "X_train.shape, y_train.shape, X_test.shape, y_test.shape"
   ]
  },
  {
   "cell_type": "code",
   "execution_count": 60,
   "metadata": {},
   "outputs": [
    {
     "data": {
      "text/plain": [
       "array([ 0.18106328,  0.18371001,  0.1835957 ,  0.18707663,  0.19009562,\n",
       "        0.18886258,  0.18958634,  0.1905509 ,  0.19394202,  0.19800154,\n",
       "        0.20218561,  0.20274543,  0.20455848,  0.20480814,  0.21451647,\n",
       "        0.22102663,  0.22632436,  0.23743124,  0.23861616,  0.23843309,\n",
       "        0.2380634 ,  0.24588763,  0.26229407,  0.26802926,  0.28065688,\n",
       "        0.26695609,  0.26013376,  0.27360428,  0.26570416,  0.26467143,\n",
       "        0.27615404,  0.28241627,  0.29520024,  0.30447192,  0.31074531,\n",
       "        0.32518132,  0.33606851,  0.3612433 ,  0.38592917,  0.3583032 ,\n",
       "        0.31542145,  0.33528379,  0.34364355,  0.34454878,  0.34391348,\n",
       "        0.36592866,  0.37089021,  0.38591336,  0.3851117 ,  0.39847351,\n",
       "        0.43065878,  0.42610336,  0.41997404,  0.43217195,  0.43701556,\n",
       "        0.44403352,  0.42557877,  0.41436274,  0.39796095,  0.35469278,\n",
       "        0.37367683,  0.39180912,  0.39123119,  0.39059559,  0.40870288,\n",
       "        0.41108787,  0.40894065,  0.41375075,  0.39941307,  0.38674374,\n",
       "        0.37069631,  0.36562608,  0.38756947,  0.39057092,  0.38354922,\n",
       "        0.37357106,  0.37481606,  0.38667022,  0.3974181 ,  0.39400322,\n",
       "        0.39649647,  0.38778077,  0.38437718,  0.38826024,  0.36853501,\n",
       "        0.35761216,  0.35921256,  0.36112671,  0.34305137,  0.31500598,\n",
       "        0.2921125 ,  0.31649805,  0.35033874,  0.35219446,  0.3974833 ,\n",
       "        0.41703859,  0.42658355,  0.42269755,  0.42160892,  0.39590607,\n",
       "        0.38087381,  0.39432939,  0.42010379,  0.41544254,  0.41011182,\n",
       "        0.42679401,  0.42301552,  0.41428962,  0.42120817,  0.43395678,\n",
       "        0.48347777,  0.49496653,  0.51009115,  0.52309796,  0.50999751,\n",
       "        0.52069465,  0.53977457,  0.5824456 ,  0.61563054,  0.64412808,\n",
       "        0.63131552,  0.64107827,  0.66362798,  0.63928905,  0.62335739,\n",
       "        0.62612953,  0.61492538,  0.59684101,  0.63563207,  0.64498936,\n",
       "        0.66805628,  0.65990868,  0.66450384,  0.65807177,  0.68952804,\n",
       "        0.69938649,  0.71650756,  0.73674467,  0.71944254,  0.7032198 ,\n",
       "        0.67060843,  0.65989045,  0.69895443,  0.70393058,  0.67173796,\n",
       "        0.65846242,  0.64251998,  0.64626715,  0.64723267,  0.59834936,\n",
       "        0.53953479,  0.52580945,  0.57214039,  0.55864   ,  0.60786685,\n",
       "        0.60632575,  0.60311647,  0.57157256,  0.55337657,  0.56969028,\n",
       "        0.56521069,  0.58896859,  0.59879164,  0.62299292,  0.64047099,\n",
       "        0.63109214,  0.65423608,  0.65900653,  0.67315749,  0.65870321,\n",
       "        0.64949756,  0.65387963,  0.66810993,  0.66846797,  0.68922018,\n",
       "        0.71765563,  0.73665029,  0.73380558,  0.78662127,  0.86053701,\n",
       "        0.87140721,  0.85923839,  0.86994553,  0.85924964,  0.82226305,\n",
       "        0.86470006,  0.90117237,  0.92776518,  0.90205634,  0.89483128,\n",
       "        0.86419068,  0.84769351,  0.89660063,  0.88887485,  0.87925014,\n",
       "        0.92006795,  0.93632177,  0.96333279,  1.        ])"
      ]
     },
     "execution_count": 60,
     "metadata": {},
     "output_type": "execute_result"
    }
   ],
   "source": [
    "y_test"
   ]
  },
  {
   "cell_type": "code",
   "execution_count": 45,
   "metadata": {},
   "outputs": [
    {
     "data": {
      "text/plain": [
       "((799, 1, 1), (199, 1, 1))"
      ]
     },
     "execution_count": 45,
     "metadata": {},
     "output_type": "execute_result"
    }
   ],
   "source": [
    "X_train = np.reshape(X_train, (X_train.shape[0], 1, X_train.shape[1]))\n",
    "X_test = np.reshape(X_test, (X_test.shape[0], 1, X_test.shape[1]))\n",
    "X_train.shape, X_test.shape"
   ]
  },
  {
   "cell_type": "code",
   "execution_count": 46,
   "metadata": {},
   "outputs": [
    {
     "name": "stdout",
     "output_type": "stream",
     "text": [
      "Epoch 1/23\n",
      " - 5s - loss: 0.0012\n",
      "Epoch 2/23\n",
      " - 4s - loss: 9.8630e-04\n",
      "Epoch 3/23\n",
      " - 4s - loss: 7.8124e-04\n",
      "Epoch 4/23\n",
      " - 4s - loss: 9.2113e-04\n",
      "Epoch 5/23\n",
      " - 4s - loss: 7.7963e-04\n",
      "Epoch 6/23\n",
      " - 4s - loss: 9.1996e-04\n",
      "Epoch 7/23\n",
      " - 4s - loss: 7.5646e-04\n",
      "Epoch 8/23\n",
      " - 4s - loss: 8.5005e-04\n",
      "Epoch 9/23\n",
      " - 4s - loss: 6.7933e-04\n",
      "Epoch 10/23\n",
      " - 4s - loss: 8.0417e-04\n",
      "Epoch 11/23\n",
      " - 4s - loss: 8.7000e-04\n",
      "Epoch 12/23\n",
      " - 4s - loss: 6.9769e-04\n",
      "Epoch 13/23\n",
      " - 4s - loss: 6.5320e-04\n",
      "Epoch 14/23\n",
      " - 4s - loss: 6.5674e-04\n",
      "Epoch 15/23\n",
      " - 4s - loss: 5.2216e-04\n",
      "Epoch 16/23\n",
      " - 4s - loss: 6.6438e-04\n",
      "Epoch 17/23\n",
      " - 4s - loss: 6.3732e-04\n",
      "Epoch 18/23\n",
      " - 4s - loss: 5.4070e-04\n",
      "Epoch 19/23\n",
      " - 4s - loss: 5.8244e-04\n",
      "Epoch 20/23\n",
      " - 4s - loss: 5.4300e-04\n",
      "Epoch 21/23\n",
      " - 4s - loss: 5.1438e-04\n",
      "Epoch 22/23\n",
      " - 4s - loss: 5.6375e-04\n",
      "Epoch 23/23\n",
      " - 4s - loss: 5.4004e-04\n"
     ]
    },
    {
     "data": {
      "text/plain": [
       "<keras.callbacks.History at 0x1233fb048>"
      ]
     },
     "execution_count": 46,
     "metadata": {},
     "output_type": "execute_result"
    }
   ],
   "source": [
    "model = Sequential()\n",
    "\n",
    "# 8 units, \n",
    "model.add(LSTM(8, input_shape=(1, look_back), dropout=0.2))\n",
    "\n",
    "# Get a single value\n",
    "model.add(Dense(1, activation='relu'))\n",
    "\n",
    "model.compile(loss='mean_squared_error', optimizer='adam')\n",
    "model.fit(X_train, y_train, epochs=23, batch_size=1, verbose=2)"
   ]
  },
  {
   "cell_type": "code",
   "execution_count": 67,
   "metadata": {},
   "outputs": [],
   "source": [
    "trainPredict = model.predict(X_train)\n",
    "testPredict = model.predict(X_test)\n",
    "# invert predictions\n",
    "trainPredict = scaler.inverse_transform(trainPredict)\n",
    "trainY = scaler.inverse_transform([y_train])\n",
    "testPredict = scaler.inverse_transform(testPredict)\n",
    "testY = scaler.inverse_transform([y_test])\n",
    "# calculate root mean squared error\n",
    "# trainScore = math.sqrt(mean_squared_error(trainY[0], trainPredict[:,0]))\n",
    "# print('Train Score: %.2f RMSE' % (trainScore))\n",
    "# testScore = math.sqrt(mean_squared_error(testY[0], testPredict[:,0]))\n",
    "# print('Test Score: %.2f RMSE' % (testScore))"
   ]
  },
  {
   "cell_type": "code",
   "execution_count": 68,
   "metadata": {},
   "outputs": [
    {
     "data": {
      "text/plain": [
       "array([ 0.18106328,  0.18371001,  0.1835957 ,  0.18707663,  0.19009562,\n",
       "        0.18886258,  0.18958634,  0.1905509 ,  0.19394202,  0.19800154,\n",
       "        0.20218561,  0.20274543,  0.20455848,  0.20480814,  0.21451647,\n",
       "        0.22102663,  0.22632436,  0.23743124,  0.23861616,  0.23843309,\n",
       "        0.2380634 ,  0.24588763,  0.26229407,  0.26802926,  0.28065688,\n",
       "        0.26695609,  0.26013376,  0.27360428,  0.26570416,  0.26467143,\n",
       "        0.27615404,  0.28241627,  0.29520024,  0.30447192,  0.31074531,\n",
       "        0.32518132,  0.33606851,  0.3612433 ,  0.38592917,  0.3583032 ,\n",
       "        0.31542145,  0.33528379,  0.34364355,  0.34454878,  0.34391348,\n",
       "        0.36592866,  0.37089021,  0.38591336,  0.3851117 ,  0.39847351,\n",
       "        0.43065878,  0.42610336,  0.41997404,  0.43217195,  0.43701556,\n",
       "        0.44403352,  0.42557877,  0.41436274,  0.39796095,  0.35469278,\n",
       "        0.37367683,  0.39180912,  0.39123119,  0.39059559,  0.40870288,\n",
       "        0.41108787,  0.40894065,  0.41375075,  0.39941307,  0.38674374,\n",
       "        0.37069631,  0.36562608,  0.38756947,  0.39057092,  0.38354922,\n",
       "        0.37357106,  0.37481606,  0.38667022,  0.3974181 ,  0.39400322,\n",
       "        0.39649647,  0.38778077,  0.38437718,  0.38826024,  0.36853501,\n",
       "        0.35761216,  0.35921256,  0.36112671,  0.34305137,  0.31500598,\n",
       "        0.2921125 ,  0.31649805,  0.35033874,  0.35219446,  0.3974833 ,\n",
       "        0.41703859,  0.42658355,  0.42269755,  0.42160892,  0.39590607,\n",
       "        0.38087381,  0.39432939,  0.42010379,  0.41544254,  0.41011182,\n",
       "        0.42679401,  0.42301552,  0.41428962,  0.42120817,  0.43395678,\n",
       "        0.48347777,  0.49496653,  0.51009115,  0.52309796,  0.50999751,\n",
       "        0.52069465,  0.53977457,  0.5824456 ,  0.61563054,  0.64412808,\n",
       "        0.63131552,  0.64107827,  0.66362798,  0.63928905,  0.62335739,\n",
       "        0.62612953,  0.61492538,  0.59684101,  0.63563207,  0.64498936,\n",
       "        0.66805628,  0.65990868,  0.66450384,  0.65807177,  0.68952804,\n",
       "        0.69938649,  0.71650756,  0.73674467,  0.71944254,  0.7032198 ,\n",
       "        0.67060843,  0.65989045,  0.69895443,  0.70393058,  0.67173796,\n",
       "        0.65846242,  0.64251998,  0.64626715,  0.64723267,  0.59834936,\n",
       "        0.53953479,  0.52580945,  0.57214039,  0.55864   ,  0.60786685,\n",
       "        0.60632575,  0.60311647,  0.57157256,  0.55337657,  0.56969028,\n",
       "        0.56521069,  0.58896859,  0.59879164,  0.62299292,  0.64047099,\n",
       "        0.63109214,  0.65423608,  0.65900653,  0.67315749,  0.65870321,\n",
       "        0.64949756,  0.65387963,  0.66810993,  0.66846797,  0.68922018,\n",
       "        0.71765563,  0.73665029,  0.73380558,  0.78662127,  0.86053701,\n",
       "        0.87140721,  0.85923839,  0.86994553,  0.85924964,  0.82226305,\n",
       "        0.86470006,  0.90117237,  0.92776518,  0.90205634,  0.89483128,\n",
       "        0.86419068,  0.84769351,  0.89660063,  0.88887485,  0.87925014,\n",
       "        0.92006795,  0.93632177,  0.96333279,  1.        ])"
      ]
     },
     "execution_count": 68,
     "metadata": {},
     "output_type": "execute_result"
    }
   ],
   "source": [
    "y_test"
   ]
  },
  {
   "cell_type": "code",
   "execution_count": 71,
   "metadata": {},
   "outputs": [
    {
     "data": {
      "text/plain": [
       "(199, 1, 1)"
      ]
     },
     "execution_count": 71,
     "metadata": {},
     "output_type": "execute_result"
    }
   ],
   "source": [
    "X_test.shape"
   ]
  },
  {
   "cell_type": "code",
   "execution_count": 70,
   "metadata": {},
   "outputs": [
    {
     "data": {
      "image/png": "[encoded data removed]",
      "text/plain": [
       "<matplotlib.figure.Figure at 0x1240c79b0>"
      ]
     },
     "metadata": {},
     "output_type": "display_data"
    }
   ],
   "source": [
    "\n",
    "trainPredictPlot = np.empty_like(ds)\n",
    "trainPredictPlot[:, :] = np.nan\n",
    "trainPredictPlot[look_back:len(trainPredict)+look_back, :] = trainPredict\n",
    "# shift test predictions for plotting\n",
    "testPredictPlot = np.empty_like(ds)\n",
    "testPredictPlot[:, :] = np.nan\n",
    "testPredictPlot[len(trainPredict)+(look_back*2)+1:len(ds)-1, :] = testPredict[:197]\n",
    "\n",
    "# # plot baseline and predictions\n",
    "plt.plot(scaler.inverse_transform(ds))\n",
    "plt.plot(trainPredictPlot)\n",
    "plt.plot(testPredictPlot)\n",
    "plt.show()"
   ]
  },
  {
   "cell_type": "code",
   "execution_count": 202,
   "metadata": {
    "collapsed": true
   },
   "outputs": [],
   "source": [
    "# btc_usd_datasets['avg_btc_price_usd'] = btc_usd_datasets.mean(axis=1)\n",
    "# btc_trace = go.Scatter(x=btc_usd_datasets.index, y=btc_usd_datasets['avg_btc_price_usd'])\n",
    "# py.iplot([btc_trace])"
   ]
  },
  {
   "cell_type": "code",
   "execution_count": 52,
   "metadata": {},
   "outputs": [
    {
     "ename": "NameError",
     "evalue": "name 'go' is not defined",
     "output_type": "error",
     "traceback": [
      "\u001b[0;31m----------------------------------------------------------\u001b[0m",
      "\u001b[0;31mNameError\u001b[0m                Traceback (most recent call last)",
      "\u001b[0;32m<ipython-input-52-f43e6349f328>\u001b[0m in \u001b[0;36m<module>\u001b[0;34m()\u001b[0m\n\u001b[0;32m----> 1\u001b[0;31m \u001b[0mtest_trace\u001b[0m \u001b[0;34m=\u001b[0m \u001b[0mgo\u001b[0m\u001b[0;34m.\u001b[0m\u001b[0mScatter\u001b[0m\u001b[0;34m(\u001b[0m\u001b[0mx\u001b[0m\u001b[0;34m=\u001b[0m\u001b[0mdf\u001b[0m\u001b[0;34m.\u001b[0m\u001b[0mindex\u001b[0m\u001b[0;34m[\u001b[0m\u001b[0;34m-\u001b[0m\u001b[0;36m1000\u001b[0m\u001b[0;34m:\u001b[0m\u001b[0;34m]\u001b[0m\u001b[0;34m,\u001b[0m \u001b[0my\u001b[0m\u001b[0;34m=\u001b[0m\u001b[0mtestPredictPlot\u001b[0m\u001b[0;34m.\u001b[0m\u001b[0mravel\u001b[0m\u001b[0;34m(\u001b[0m\u001b[0;34m)\u001b[0m\u001b[0;34m,\u001b[0m \u001b[0mname\u001b[0m\u001b[0;34m=\u001b[0m\u001b[0;34m\"Prediction\"\u001b[0m\u001b[0;34m)\u001b[0m\u001b[0;34m\u001b[0m\u001b[0m\n\u001b[0m\u001b[1;32m      2\u001b[0m \u001b[0mtrain_trace\u001b[0m \u001b[0;34m=\u001b[0m \u001b[0mgo\u001b[0m\u001b[0;34m.\u001b[0m\u001b[0mScatter\u001b[0m\u001b[0;34m(\u001b[0m\u001b[0mx\u001b[0m\u001b[0;34m=\u001b[0m\u001b[0mdf\u001b[0m\u001b[0;34m.\u001b[0m\u001b[0mindex\u001b[0m\u001b[0;34m[\u001b[0m\u001b[0;34m-\u001b[0m\u001b[0;36m1000\u001b[0m\u001b[0;34m:\u001b[0m\u001b[0;34m]\u001b[0m\u001b[0;34m,\u001b[0m \u001b[0my\u001b[0m\u001b[0;34m=\u001b[0m\u001b[0mtrainPredictPlot\u001b[0m\u001b[0;34m.\u001b[0m\u001b[0mravel\u001b[0m\u001b[0;34m(\u001b[0m\u001b[0;34m)\u001b[0m\u001b[0;34m,\u001b[0m \u001b[0mname\u001b[0m\u001b[0;34m=\u001b[0m\u001b[0;34m\"Traning\"\u001b[0m\u001b[0;34m)\u001b[0m\u001b[0;34m\u001b[0m\u001b[0m\n\u001b[1;32m      3\u001b[0m \u001b[0mactual_trace\u001b[0m \u001b[0;34m=\u001b[0m \u001b[0mgo\u001b[0m\u001b[0;34m.\u001b[0m\u001b[0mScatter\u001b[0m\u001b[0;34m(\u001b[0m\u001b[0mx\u001b[0m\u001b[0;34m=\u001b[0m\u001b[0mdf\u001b[0m\u001b[0;34m.\u001b[0m\u001b[0mindex\u001b[0m\u001b[0;34m[\u001b[0m\u001b[0;34m-\u001b[0m\u001b[0;36m1000\u001b[0m\u001b[0;34m:\u001b[0m\u001b[0;34m]\u001b[0m\u001b[0;34m,\u001b[0m \u001b[0my\u001b[0m\u001b[0;34m=\u001b[0m\u001b[0mscaler\u001b[0m\u001b[0;34m.\u001b[0m\u001b[0minverse_transform\u001b[0m\u001b[0;34m(\u001b[0m\u001b[0mds\u001b[0m\u001b[0;34m)\u001b[0m\u001b[0;34m.\u001b[0m\u001b[0mravel\u001b[0m\u001b[0;34m(\u001b[0m\u001b[0;34m)\u001b[0m\u001b[0;34m,\u001b[0m \u001b[0mname\u001b[0m\u001b[0;34m=\u001b[0m\u001b[0;34m\"Actual\"\u001b[0m\u001b[0;34m)\u001b[0m\u001b[0;34m\u001b[0m\u001b[0m\n\u001b[1;32m      4\u001b[0m \u001b[0;34m\u001b[0m\u001b[0m\n\u001b[1;32m      5\u001b[0m \u001b[0;31m# figure_or_data -- a plotly.graph_objs.Figure or plotly.graph_objs.Data or\u001b[0m\u001b[0;34m\u001b[0m\u001b[0;34m\u001b[0m\u001b[0m\n",
      "\u001b[0;31mNameError\u001b[0m: name 'go' is not defined"
     ]
    }
   ],
   "source": [
    "test_trace = go.Scatter(x=df.index[-1000:], y=testPredictPlot.ravel(), name=\"Prediction\")\n",
    "train_trace = go.Scatter(x=df.index[-1000:], y=trainPredictPlot.ravel(), name=\"Traning\")\n",
    "actual_trace = go.Scatter(x=df.index[-1000:], y=scaler.inverse_transform(ds).ravel(), name=\"Actual\")\n",
    "\n",
    "# figure_or_data -- a plotly.graph_objs.Figure or plotly.graph_objs.Data or\n",
    "#                   dict or list that describes a Plotly graph.\n",
    "#                   See https://plot.ly/python/ for examples of\n",
    "#                   graph descriptions.\n",
    "\n",
    "layout = go.Layout(\n",
    "        title=\"Bitcoin Actual Price, Training Data and Model Prediction\",\n",
    "        legend=dict(orientation=\"h\"),\n",
    "        xaxis=dict(type='date'),\n",
    "        yaxis=dict(\n",
    "            title=\"Bitcoin Price\",\n",
    "        )\n",
    "    )\n",
    "                \n",
    "fig = go.Figure(data=[test_trace, train_trace,actual_trace], layout=layout)\n",
    "\n",
    "py.iplot(fig)"
   ]
  },
  {
   "cell_type": "code",
   "execution_count": 159,
   "metadata": {},
   "outputs": [
    {
     "name": "stdout",
     "output_type": "stream",
     "text": [
      "_________________________________________________________________\n",
      "Layer (type)                 Output Shape              Param #   \n",
      "=================================================================\n",
      "lstm_2 (LSTM)                (None, 8)                 320       \n",
      "_________________________________________________________________\n",
      "dense_2 (Dense)              (None, 1)                 9         \n",
      "=================================================================\n",
      "Total params: 329\n",
      "Trainable params: 329\n",
      "Non-trainable params: 0\n",
      "_________________________________________________________________\n"
     ]
    }
   ],
   "source": [
    "model.summary()"
   ]
  },
  {
   "cell_type": "code",
   "execution_count": null,
   "metadata": {
    "collapsed": true
   },
   "outputs": [],
   "source": []
  },
  {
   "cell_type": "code",
   "execution_count": 13,
   "metadata": {
    "collapsed": true
   },
   "outputs": [],
   "source": [
    "from datetime import datetime\n",
    "import pandas as pd\n",
    "\n",
    "base_polo_url = 'https://poloniex.com/public?command=returnChartData&currencyPair={}&start={}&end={}&period={}'\n",
    "start_date = datetime.strptime('2015-01-01', '%Y-%m-%d') # get data from the start of 2015\n",
    "end_date = datetime.now() # up until today\n",
    "pediod = 86400 # pull daily data (86,400 seconds per day)\n",
    "\n",
    "def get_crypto_data(poloniex_pair):\n",
    "    poloniex_pair = \"BTC_{}\".format(poloniex_pair)\n",
    "    '''Retrieve cryptocurrency data from poloniex'''\n",
    "    json_url = base_polo_url.format(poloniex_pair, start_date.timestamp(), end_date.timestamp(), pediod)\n",
    "    data_df = get_json_data(json_url, poloniex_pair)\n",
    "    data_df = data_df.set_index('date')\n",
    "    return data_df\n",
    "\n",
    "def get_json_data(json_url, cache_path):\n",
    "#     '''Download and cache JSON data, return as a dataframe.'''\n",
    "#     try:        \n",
    "#         f = open(cache_path, 'rb')\n",
    "#         df = pickle.load(f)   \n",
    "#         print('Loaded {} from cache'.format(json_url))\n",
    "#     except (OSError, IOError) as e:\n",
    "    print('Downloading {}'.format(json_url))\n",
    "    df = pd.read_json(json_url)\n",
    "    df.to_pickle(cache_path)\n",
    "    print('Cached {} at {}'.format(json_url, cache_path))\n",
    "    return df"
   ]
  },
  {
   "cell_type": "code",
   "execution_count": 31,
   "metadata": {},
   "outputs": [
    {
     "name": "stdout",
     "output_type": "stream",
     "text": [
      "Downloading https://poloniex.com/public?command=returnChartData&currencyPair=BTC_XRP&start=1420088400.0&end=1511650625.402486&period=86400\n",
      "Cached https://poloniex.com/public?command=returnChartData&currencyPair=BTC_XRP&start=1420088400.0&end=1511650625.402486&period=86400 at BTC_XRP\n"
     ]
    }
   ],
   "source": [
    "df = get_crypto_data('XRP')"
   ]
  },
  {
   "cell_type": "code",
   "execution_count": 32,
   "metadata": {
    "collapsed": true
   },
   "outputs": [],
   "source": [
    "d = df.describe()"
   ]
  },
  {
   "cell_type": "code",
   "execution_count": 33,
   "metadata": {
    "collapsed": true
   },
   "outputs": [],
   "source": [
    "l = list(df['close'].values)"
   ]
  },
  {
   "cell_type": "code",
   "execution_count": 34,
   "metadata": {},
   "outputs": [
    {
     "data": {
      "text/html": [
       "<div>\n",
       "<table border=\"1\" class=\"dataframe\">\n",
       "  <thead>\n",
       "    <tr style=\"text-align: right;\">\n",
       "      <th></th>\n",
       "      <th>close</th>\n",
       "      <th>high</th>\n",
       "      <th>low</th>\n",
       "      <th>open</th>\n",
       "      <th>quoteVolume</th>\n",
       "      <th>volume</th>\n",
       "      <th>weightedAverage</th>\n",
       "    </tr>\n",
       "  </thead>\n",
       "  <tbody>\n",
       "    <tr>\n",
       "      <th>count</th>\n",
       "      <td>1059.000000</td>\n",
       "      <td>1059.000000</td>\n",
       "      <td>1059.000000</td>\n",
       "      <td>1059.000000</td>\n",
       "      <td>1.059000e+03</td>\n",
       "      <td>1059.000000</td>\n",
       "      <td>1059.000000</td>\n",
       "    </tr>\n",
       "    <tr>\n",
       "      <th>mean</th>\n",
       "      <td>0.000031</td>\n",
       "      <td>0.000033</td>\n",
       "      <td>0.000029</td>\n",
       "      <td>0.000031</td>\n",
       "      <td>8.504774e+07</td>\n",
       "      <td>3796.412042</td>\n",
       "      <td>0.000031</td>\n",
       "    </tr>\n",
       "    <tr>\n",
       "      <th>std</th>\n",
       "      <td>0.000028</td>\n",
       "      <td>0.000030</td>\n",
       "      <td>0.000026</td>\n",
       "      <td>0.000028</td>\n",
       "      <td>2.423001e+08</td>\n",
       "      <td>13464.519797</td>\n",
       "      <td>0.000028</td>\n",
       "    </tr>\n",
       "    <tr>\n",
       "      <th>min</th>\n",
       "      <td>0.000004</td>\n",
       "      <td>0.000005</td>\n",
       "      <td>0.000004</td>\n",
       "      <td>0.000004</td>\n",
       "      <td>1.211175e+04</td>\n",
       "      <td>0.432718</td>\n",
       "      <td>0.000004</td>\n",
       "    </tr>\n",
       "    <tr>\n",
       "      <th>25%</th>\n",
       "      <td>0.000012</td>\n",
       "      <td>0.000012</td>\n",
       "      <td>0.000011</td>\n",
       "      <td>0.000012</td>\n",
       "      <td>1.647536e+06</td>\n",
       "      <td>40.619786</td>\n",
       "      <td>0.000012</td>\n",
       "    </tr>\n",
       "    <tr>\n",
       "      <th>50%</th>\n",
       "      <td>0.000021</td>\n",
       "      <td>0.000022</td>\n",
       "      <td>0.000020</td>\n",
       "      <td>0.000021</td>\n",
       "      <td>1.489400e+07</td>\n",
       "      <td>183.614880</td>\n",
       "      <td>0.000021</td>\n",
       "    </tr>\n",
       "    <tr>\n",
       "      <th>75%</th>\n",
       "      <td>0.000037</td>\n",
       "      <td>0.000040</td>\n",
       "      <td>0.000035</td>\n",
       "      <td>0.000037</td>\n",
       "      <td>6.342545e+07</td>\n",
       "      <td>1288.688088</td>\n",
       "      <td>0.000037</td>\n",
       "    </tr>\n",
       "    <tr>\n",
       "      <th>max</th>\n",
       "      <td>0.000208</td>\n",
       "      <td>0.000244</td>\n",
       "      <td>0.000176</td>\n",
       "      <td>0.000209</td>\n",
       "      <td>3.737091e+09</td>\n",
       "      <td>153454.165470</td>\n",
       "      <td>0.000214</td>\n",
       "    </tr>\n",
       "  </tbody>\n",
       "</table>\n",
       "</div>"
      ],
      "text/plain": [
       "             close         high          low         open   quoteVolume  \\\n",
       "count  1059.000000  1059.000000  1059.000000  1059.000000  1.059000e+03   \n",
       "mean      0.000031     0.000033     0.000029     0.000031  8.504774e+07   \n",
       "std       0.000028     0.000030     0.000026     0.000028  2.423001e+08   \n",
       "min       0.000004     0.000005     0.000004     0.000004  1.211175e+04   \n",
       "25%       0.000012     0.000012     0.000011     0.000012  1.647536e+06   \n",
       "50%       0.000021     0.000022     0.000020     0.000021  1.489400e+07   \n",
       "75%       0.000037     0.000040     0.000035     0.000037  6.342545e+07   \n",
       "max       0.000208     0.000244     0.000176     0.000209  3.737091e+09   \n",
       "\n",
       "              volume  weightedAverage  \n",
       "count    1059.000000      1059.000000  \n",
       "mean     3796.412042         0.000031  \n",
       "std     13464.519797         0.000028  \n",
       "min         0.432718         0.000004  \n",
       "25%        40.619786         0.000012  \n",
       "50%       183.614880         0.000021  \n",
       "75%      1288.688088         0.000037  \n",
       "max    153454.165470         0.000214  "
      ]
     },
     "execution_count": 34,
     "metadata": {},
     "output_type": "execute_result"
    }
   ],
   "source": [
    "d"
   ]
  },
  {
   "cell_type": "code",
   "execution_count": null,
   "metadata": {
    "collapsed": true
   },
   "outputs": [],
   "source": []
  }
 ],
 "metadata": {
  "kernelspec": {
   "display_name": "Python 3",
   "language": "python",
   "name": "python3"
  },
  "language_info": {
   "codemirror_mode": {
    "name": "ipython",
    "version": 3
   },
   "file_extension": ".py",
   "mimetype": "text/x-python",
   "name": "python",
   "nbconvert_exporter": "python",
   "pygments_lexer": "ipython3",
   "version": "3.5.4"
  }
 },
 "nbformat": 4,
 "nbformat_minor": 2
}
