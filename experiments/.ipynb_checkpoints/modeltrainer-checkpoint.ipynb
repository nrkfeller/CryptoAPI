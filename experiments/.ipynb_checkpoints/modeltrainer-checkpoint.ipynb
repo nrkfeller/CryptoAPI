{
 "cells": [
  {
   "cell_type": "code",
   "execution_count": null,
   "metadata": {},
   "outputs": [
    {
     "name": "stderr",
     "output_type": "stream",
     "text": [
      "Using TensorFlow backend.\n"
     ]
    }
   ],
   "source": [
    "from datetime import datetime\n",
    "import pandas as pd\n",
    "from sklearn.preprocessing import MinMaxScaler\n",
    "from keras.models import Sequential\n",
    "from keras.layers import LSTM, Dense\n",
    "from keras.optimizers import Adam\n",
    "import numpy as np\n",
    "\n",
    "import matplotlib.pyplot as plt\n",
    "%matplotlib inline"
   ]
  },
  {
   "cell_type": "code",
   "execution_count": null,
   "metadata": {},
   "outputs": [
    {
     "name": "stdout",
     "output_type": "stream",
     "text": [
      "Downloading https://poloniex.com/public?command=returnChartData&currencyPair=BTC_XRP&start=1420088400.0&end=1511720070.085092&period=86400\n",
      "Cached https://poloniex.com/public?command=returnChartData&currencyPair=BTC_XRP&start=1420088400.0&end=1511720070.085092&period=86400 at BTC_XRP\n",
      "Epoch 1/45\n",
      " - 5s - loss: 0.0130\n",
      "Epoch 2/45\n",
      " - 4s - loss: 0.0130\n",
      "Epoch 3/45\n"
     ]
    }
   ],
   "source": [
    "base_polo_url = 'https://poloniex.com/public?command=returnChartData&currencyPair={}&start={}&end={}&period={}'\n",
    "start_date = datetime.strptime('2015-01-01', '%Y-%m-%d')\n",
    "end_date = datetime.now()\n",
    "period = 86400\n",
    "\n",
    "def get_crypto_data(poloniex_pair):\n",
    "    poloniex_pair = \"BTC_{}\".format(poloniex_pair)\n",
    "    json_url = base_polo_url.format(\n",
    "        poloniex_pair,\n",
    "        start_date.timestamp(),\n",
    "        end_date.timestamp(),\n",
    "        period\n",
    "    )\n",
    "    data_df = get_json_data(json_url, poloniex_pair)\n",
    "    data_df = data_df.set_index('date')\n",
    "    return data_df\n",
    "\n",
    "def get_json_data(json_url, cache_path):\n",
    "        print('Downloading {}'.format(json_url))\n",
    "        df = pd.read_json(json_url)\n",
    "        df.to_pickle(cache_path)\n",
    "        print('Cached {} at {}'.format(json_url, cache_path))\n",
    "        return df\n",
    "    \n",
    "def create_dataset(dataset, lookback=1):\n",
    "    dataX, dataY = [], []\n",
    "    for i in range(0, len(dataset) - lookback):\n",
    "        dataY.append(dataset[i+lookback, 0])\n",
    "        dataX.append(dataset[i])\n",
    "    return np.array(dataX), np.array(dataY)\n",
    "\n",
    "def train_test_split(data, test_size=0.2):\n",
    "    train_set_size = int(len(data) * (1-test_size))\n",
    "    train_set = data[:train_set_size]\n",
    "    test_set = data[-(len(data)-train_set_size):]\n",
    "    return train_set, test_set\n",
    "\n",
    "ticker = \"XRP\"\n",
    "ds = get_crypto_data(ticker)\n",
    "ds = ds['close'].dropna(how='all')\n",
    " \n",
    "\n",
    "scaler = MinMaxScaler(feature_range=(0,1))\n",
    "ds = scaler.fit_transform(ds)\n",
    "\n",
    "train, test = train_test_split(ds)\n",
    "\n",
    "look_back=1\n",
    "X_train, y_train = create_dataset(train, look_back)\n",
    "X_test, y_test = create_dataset(test, look_back)\n",
    "\n",
    "X_train = np.reshape(X_train, (X_train.shape[0], 1, X_train.shape[1]))\n",
    "X_test = np.reshape(X_test, (X_test.shape[0], 1, X_test.shape[1]))\n",
    "\n",
    "model = Sequential()\n",
    "model.add(LSTM(8, input_shape=(1, look_back), dropout=0.2))\n",
    "model.add(Dense(1, activation='relu'))\n",
    "model.compile(Adam(lr=0.0005),loss='mean_squared_error')\n",
    "model.fit(X_train, y_train, epochs=45, batch_size=1, verbose=2)\n",
    "\n",
    "model_json = model.to_json()\n",
    "with open(\"model_{}.json\".format(ticker), \"w\") as json_file:\n",
    "    json_file.write(model_json)\n",
    "model.save_weights(\"model_{}.h5\".format(ticker))"
   ]
  },
  {
   "cell_type": "code",
   "execution_count": null,
   "metadata": {},
   "outputs": [],
   "source": [
    "trainPredict = model.predict(X_train)\n",
    "testPredict = model.predict(X_test)\n",
    "# invert predictions\n",
    "trainPredict = scaler.inverse_transform(trainPredict)\n",
    "testPredict = scaler.inverse_transform(testPredict)\n",
    "\n",
    "trainPredictPlot = np.empty_like(ds)\n",
    "trainPredictPlot[:, :] = np.nan\n",
    "trainPredictPlot[look_back:len(trainPredict)+look_back, :] = trainPredict\n",
    "# shift test predictions for plotting\n",
    "testPredictPlot = np.empty_like(ds)\n",
    "testPredictPlot[:, :] = np.nan\n",
    "testPredictPlot[len(trainPredict)+1:len(ds)-1, :] = testPredict\n",
    "\n",
    "plt.plot(trainPredictPlot)\n",
    "plt.plot(testPredictPlot)\n",
    "plt.plot(scaler.inverse_transform(ds))\n",
    "plt.show()"
   ]
  },
  {
   "cell_type": "code",
   "execution_count": null,
   "metadata": {
    "collapsed": true
   },
   "outputs": [],
   "source": []
  },
  {
   "cell_type": "code",
   "execution_count": null,
   "metadata": {
    "collapsed": true
   },
   "outputs": [],
   "source": []
  },
  {
   "cell_type": "code",
   "execution_count": 51,
   "metadata": {
    "collapsed": true
   },
   "outputs": [],
   "source": [
    "def create_dataset(self, dataset, lookback=1):\n",
    "    dataX, dataY = [], []\n",
    "    for i in range(0, len(dataset) - lookback):\n",
    "        dataY.append(dataset[i + lookback, 0])\n",
    "        dataX.append(dataset[i])\n",
    "    return np.array(dataX), np.array(dataY)\n",
    "\n",
    "def train_test_split(self, data, test_size=0.2):\n",
    "    train_set_size = int(len(data) * (1 - test_size))\n",
    "    train_set = data[:train_set_size]\n",
    "    test_set = data[-(len(data) - train_set_size):]\n",
    "    return train_set, test_set\n",
    "\n",
    "def predict(self, ds):\n",
    "\n",
    "    ds = ds['close'].dropna(how='all')\n",
    "    ds = ds.values.reshape(len(ds), 1)\n",
    "\n",
    "    scaler = MinMaxScaler(feature_range=(0, 1))\n",
    "    ds = scaler.fit_transform(ds)\n",
    "\n",
    "    train, test = self.train_test_split(ds)\n",
    "\n",
    "    look_back = 1\n",
    "    X_train, y_train = self.create_dataset(train, look_back)\n",
    "    X_test, y_test = self.create_dataset(test, look_back)\n",
    "\n",
    "    X_train = np.reshape(X_train, (X_train.shape[0], 1, X_train.shape[1]))\n",
    "    X_test = np.reshape(X_test, (X_test.shape[0], 1, X_test.shape[1]))\n",
    "\n",
    "    model = Sequential()\n",
    "    model.add(LSTM(8, input_shape=(1, look_back), dropout=0.2))\n",
    "    model.add(Dense(1, activation='relu'))\n",
    "    model.compile(loss='mean_squared_error', optimizer='adam')\n",
    "    model.fit(X_train, y_train, epochs=23, batch_size=1, verbose=2)\n",
    "\n",
    "    trainPredict = model.predict(X_train)\n",
    "    testPredict = model.predict(X_test)\n",
    "    # invert predictions\n",
    "    trainPredict = scaler.inverse_transform(trainPredict)\n",
    "    trainY = scaler.inverse_transform([y_train])\n",
    "    testPredict = scaler.inverse_transform(testPredict)\n",
    "    testY = scaler.inverse_transform([y_test])\n",
    "\n",
    "    return trainPredict, testPredict"
   ]
  },
  {
   "cell_type": "code",
   "execution_count": null,
   "metadata": {
    "collapsed": true
   },
   "outputs": [],
   "source": []
  }
 ],
 "metadata": {
  "kernelspec": {
   "display_name": "Python 3",
   "language": "python",
   "name": "python3"
  },
  "language_info": {
   "codemirror_mode": {
    "name": "ipython",
    "version": 3
   },
   "file_extension": ".py",
   "mimetype": "text/x-python",
   "name": "python",
   "nbconvert_exporter": "python",
   "pygments_lexer": "ipython3",
   "version": "3.5.4"
  }
 },
 "nbformat": 4,
 "nbformat_minor": 2
}
