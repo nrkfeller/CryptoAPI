{
 "cells": [
  {
   "cell_type": "code",
   "execution_count": 19,
   "metadata": {},
   "outputs": [],
   "source": [
    "from datetime import datetime\n",
    "import pandas as pd\n",
    "from sklearn.preprocessing import MinMaxScaler\n",
    "from keras.models import Sequential\n",
    "from keras.layers import LSTM, Dense\n",
    "from keras.optimizers import Adam\n",
    "import numpy as np\n",
    "\n",
    "import matplotlib.pyplot as plt\n",
    "%matplotlib inline"
   ]
  },
  {
   "cell_type": "code",
   "execution_count": 25,
   "metadata": {},
   "outputs": [
    {
     "name": "stdout",
     "output_type": "stream",
     "text": [
      "Downloading https://poloniex.com/public?command=returnChartData&currencyPair=BTC_LSK&start=1420088400.0&end=1511724876.410173&period=86400\n",
      "Cached https://poloniex.com/public?command=returnChartData&currencyPair=BTC_LSK&start=1420088400.0&end=1511724876.410173&period=86400 at BTC_LSK\n",
      "Epoch 1/23\n",
      " - 3s - loss: 0.0238\n",
      "Epoch 2/23\n",
      " - 2s - loss: 0.0133\n",
      "Epoch 3/23\n",
      " - 2s - loss: 0.0139\n",
      "Epoch 4/23\n",
      " - 2s - loss: 0.0105\n",
      "Epoch 5/23\n",
      " - 2s - loss: 0.0122\n",
      "Epoch 6/23\n",
      " - 3s - loss: 0.0122\n",
      "Epoch 7/23\n",
      " - 2s - loss: 0.0103\n",
      "Epoch 8/23\n",
      " - 2s - loss: 0.0099\n",
      "Epoch 9/23\n",
      " - 2s - loss: 0.0111\n",
      "Epoch 10/23\n",
      " - 2s - loss: 0.0115\n",
      "Epoch 11/23\n",
      " - 3s - loss: 0.0100\n",
      "Epoch 12/23\n",
      " - 3s - loss: 0.0091\n",
      "Epoch 13/23\n",
      " - 2s - loss: 0.0090\n",
      "Epoch 14/23\n",
      " - 2s - loss: 0.0088\n",
      "Epoch 15/23\n",
      " - 2s - loss: 0.0114\n",
      "Epoch 16/23\n",
      " - 2s - loss: 0.0071\n",
      "Epoch 17/23\n",
      " - 2s - loss: 0.0107\n",
      "Epoch 18/23\n",
      " - 2s - loss: 0.0076\n",
      "Epoch 19/23\n",
      " - 2s - loss: 0.0096\n",
      "Epoch 20/23\n",
      " - 2s - loss: 0.0065\n",
      "Epoch 21/23\n",
      " - 2s - loss: 0.0090\n",
      "Epoch 22/23\n",
      " - 2s - loss: 0.0079\n",
      "Epoch 23/23\n",
      " - 2s - loss: 0.0059\n"
     ]
    }
   ],
   "source": [
    "base_polo_url = 'https://poloniex.com/public?command=returnChartData&currencyPair={}&start={}&end={}&period={}'\n",
    "start_date = datetime.strptime('2015-01-01', '%Y-%m-%d')\n",
    "end_date = datetime.now()\n",
    "period = 86400\n",
    "\n",
    "def get_crypto_data(poloniex_pair):\n",
    "    poloniex_pair = \"BTC_{}\".format(poloniex_pair)\n",
    "    json_url = base_polo_url.format(\n",
    "        poloniex_pair,\n",
    "        start_date.timestamp(),\n",
    "        end_date.timestamp(),\n",
    "        period\n",
    "    )\n",
    "    data_df = get_json_data(json_url, poloniex_pair)\n",
    "    data_df = data_df.set_index('date')\n",
    "    return data_df\n",
    "\n",
    "def get_json_data(json_url, cache_path):\n",
    "        print('Downloading {}'.format(json_url))\n",
    "        df = pd.read_json(json_url)\n",
    "        df.to_pickle(cache_path)\n",
    "        print('Cached {} at {}'.format(json_url, cache_path))\n",
    "        return df\n",
    "    \n",
    "def create_dataset(dataset, lookback=1):\n",
    "    dataX, dataY = [], []\n",
    "    for i in range(0, len(dataset) - lookback):\n",
    "        dataY.append(dataset[i+lookback, 0])\n",
    "        dataX.append(dataset[i])\n",
    "    return np.array(dataX), np.array(dataY)\n",
    "\n",
    "def train_test_split(data, test_size=0.2):\n",
    "    train_set_size = int(len(data) * (1-test_size))\n",
    "    train_set = data[:train_set_size]\n",
    "    test_set = data[-(len(data)-train_set_size):]\n",
    "    return train_set, test_set\n",
    "\n",
    "ticker = \"LSK\"\n",
    "ds = get_crypto_data(ticker)\n",
    "ds = ds['close'].dropna(how='all')\n",
    "ds = ds.values.reshape(len(ds), 1)\n",
    "\n",
    "scaler = MinMaxScaler(feature_range=(0,1))\n",
    "ds = scaler.fit_transform(ds)\n",
    "\n",
    "train, test = train_test_split(ds)\n",
    "\n",
    "look_back=1\n",
    "\n",
    "X_train, y_train = create_dataset(train, look_back)\n",
    "X_test, y_test = create_dataset(test, look_back)\n",
    "\n",
    "X_train = np.reshape(X_train, (X_train.shape[0], 1, X_train.shape[1]))\n",
    "X_test = np.reshape(X_test, (X_test.shape[0], 1, X_test.shape[1]))\n",
    "\n",
    "model = Sequential()\n",
    "model.add(LSTM(8, input_shape=(1, look_back), dropout=0.2))\n",
    "model.add(Dense(1, activation='relu'))\n",
    "model.compile(loss='mean_squared_error', optimizer='adam')\n",
    "model.fit(X_train, y_train, epochs=23, batch_size=1, verbose=2)\n",
    "\n",
    "model_json = model.to_json()\n",
    "with open(\"model_{}.json\".format(ticker), \"w\") as json_file:\n",
    "    json_file.write(model_json)\n",
    "model.save_weights(\"model_{}.h5\".format(ticker))"
   ]
  },
  {
   "cell_type": "code",
   "execution_count": 26,
   "metadata": {},
   "outputs": [
    {
     "data": {
      "image/png": "[encoded data removed]",
      "text/plain": [
       "<matplotlib.figure.Figure at 0x12e7c0860>"
      ]
     },
     "metadata": {},
     "output_type": "display_data"
    }
   ],
   "source": [
    "trainPredict = model.predict(X_train)\n",
    "testPredict = model.predict(X_test)\n",
    "# invert predictions\n",
    "trainPredict = scaler.inverse_transform(trainPredict)\n",
    "testPredict = scaler.inverse_transform(testPredict)\n",
    "\n",
    "trainPredictPlot = np.empty_like(ds)\n",
    "trainPredictPlot[:, :] = np.nan\n",
    "trainPredictPlot[look_back:len(trainPredict)+look_back, :] = trainPredict\n",
    "# shift test predictions for plotting\n",
    "testPredictPlot = np.empty_like(ds)\n",
    "testPredictPlot[:, :] = np.nan\n",
    "testPredictPlot[len(trainPredict)+1:len(ds)-1, :] = testPredict\n",
    "\n",
    "plt.plot(trainPredictPlot)\n",
    "plt.plot(testPredictPlot)\n",
    "plt.plot(scaler.inverse_transform(ds))\n",
    "plt.show()"
   ]
  },
  {
   "cell_type": "code",
   "execution_count": null,
   "metadata": {},
   "outputs": [],
   "source": []
  },
  {
   "cell_type": "code",
   "execution_count": null,
   "metadata": {
    "collapsed": true
   },
   "outputs": [],
   "source": []
  },
  {
   "cell_type": "code",
   "execution_count": null,
   "metadata": {
    "collapsed": true
   },
   "outputs": [],
   "source": []
  },
  {
   "cell_type": "code",
   "execution_count": null,
   "metadata": {
    "collapsed": true
   },
   "outputs": [],
   "source": []
  }
 ],
 "metadata": {
  "kernelspec": {
   "display_name": "Python 3",
   "language": "python",
   "name": "python3"
  },
  "language_info": {
   "codemirror_mode": {
    "name": "ipython",
    "version": 3
   },
   "file_extension": ".py",
   "mimetype": "text/x-python",
   "name": "python",
   "nbconvert_exporter": "python",
   "pygments_lexer": "ipython3",
   "version": "3.5.4"
  }
 },
 "nbformat": 4,
 "nbformat_minor": 2
}
